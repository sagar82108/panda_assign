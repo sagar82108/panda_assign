{
 "cells": [
  {
   "cell_type": "code",
   "execution_count": null,
   "id": "b14bd9a1-60ae-4bbf-89c9-5f749b46f89a",
   "metadata": {},
   "outputs": [],
   "source": [
    "#1ans)\n",
    "!pip install pandas\n",
    "import pandas as pd\n",
    "\n",
    "# Create the Pandas Series with the data\n",
    "data = [4, 8, 15, 16, 23, 42]\n",
    "series = pd.Series(data)\n",
    "\n",
    "# Print the Series\n",
    "print(series)\n"
   ]
  },
  {
   "cell_type": "code",
   "execution_count": null,
   "id": "b2c32c8c-95f8-44a7-8500-e007560c7598",
   "metadata": {},
   "outputs": [],
   "source": [
    "#2ans) \n",
    "import pandas as pd\n",
    "\n",
    "# Create the Pandas Series with the data\n",
    "data = [4, 8, 15, 16, 23, 42]\n",
    "series = pd.Series(data)\n",
    "\n",
    "# Print the Series\n",
    "print(series)\n"
   ]
  },
  {
   "cell_type": "code",
   "execution_count": null,
   "id": "33d284ee-a6a1-4faa-8b63-da590b8ebb8b",
   "metadata": {},
   "outputs": [],
   "source": [
    "#3ans)\n",
    "import pandas as pd\n",
    "\n",
    "data= { \n",
    "    'Name': ['Alice','Bob','claire'],\n",
    "    'Age':  ['25','30','27'],\n",
    "    'Gender':['Female','male','Female']\n",
    "}\n",
    "\n",
    "df=pd.DataFrame(data)\n",
    "print(df)"
   ]
  },
  {
   "cell_type": "code",
   "execution_count": null,
   "id": "c013d4b1-6e33-44db-ab81-7dd5be459472",
   "metadata": {},
   "outputs": [],
   "source": [
    "\"\"\"4ans)In Pandas, a DataFrame is a two-dimensional, tabular data structure that is similar to a spreadsheet or a SQL table. \n",
    "It consists of rows and columns, where each column can contain different types of data (numeric, string, boolean, etc.). \n",
    "DataFrames are one of the core data structures in Pandas and are incredibly versatile for data manipulation and analysis.\n",
    "\n",
    "On the other hand, a Series is a one-dimensional labeled array in Pandas. \n",
    "It is similar to a Python list or NumPy array but comes with additional functionality and features. \n",
    "A Series can hold data of any single data type, and it also has an associated set of labels,\n",
    "called the \"index,\" that can be used to access the data in the Series.\n"
   ]
  },
  {
   "cell_type": "code",
   "execution_count": null,
   "id": "3235e8ee-1963-4841-a9e0-a82a262d1b1e",
   "metadata": {},
   "outputs": [],
   "source": [
    "\"\"\"5ans) groupby(): This function is used to group data based on one or more columns and perform aggregate functions on the groups.\n",
    "         drop(): This function allows you to remove rows or columns from the DataFrame\n",
    "         head() and tail(): These functions allow you to view the top few rows (head) or the bottom few rows (tail) of a DataFrame. \n",
    "                   They are useful for getting a quick look at the data.\n",
    "        shape: This attribute returns a tuple representing the dimensions of the DataFrame (number of rows and columns).\n",
    "         info(): This function provides a concise summary of the DataFrame, including the data types of columns and non-null values."
   ]
  },
  {
   "cell_type": "code",
   "execution_count": null,
   "id": "b9940671-4796-41cd-8a8c-17bf1f40ba95",
   "metadata": {},
   "outputs": [],
   "source": [
    "\"\"\"6ans) In Pandas, the Series and DataFrame are mutable, whereas the Panel is not.\n",
    "\n",
    "Series: A Series is a one-dimensional labeled array, and it is mutable. \n",
    "You can modify the values, add or remove elements, and update the index labels after creating a Series.\n",
    "\n",
    "DataFrame: A DataFrame is a two-dimensional tabular data structure, and it is also mutable. \n",
    "You can modify the values in individual cells, add or remove columns and rows, and update the row and column labels.\n",
    "\n",
    "Panel: A Panel is a three-dimensional data structure, but it has been deprecated in recent versions of Pandas. \n",
    "Instead, you should use DataFrame objects with multi-level indexing to handle three-dimensional data. \n",
    "Panel was not mutable, and since it is deprecated, it is better to use other data structures like DataFrame for your data manipulation needs."
   ]
  },
  {
   "cell_type": "code",
   "execution_count": null,
   "id": "e514ca93-7b88-4e10-a567-8146c7ad6eef",
   "metadata": {},
   "outputs": [],
   "source": [
    "#7ans)\n",
    "import pandas as pd\n",
    "\n",
    "# Sample data in the form of two Series\n",
    "names_series = pd.Series(['Alice', 'Bob', 'Charlie', 'David', 'Emily'])\n",
    "ages_series = pd.Series([25, 30, 22, 28, 35])\n",
    "\n",
    "# Create the DataFrame by combining the Series\n",
    "df = pd.DataFrame({\n",
    "    'Name': names_series,\n",
    "    'Age': ages_series\n",
    "})\n",
    "\n",
    "# Print the DataFrame\n",
    "print(df)\n"
   ]
  },
  {
   "cell_type": "code",
   "execution_count": null,
   "id": "6a9f2b1f-7d83-4bdb-90ea-dbce24b546f7",
   "metadata": {},
   "outputs": [],
   "source": []
  }
 ],
 "metadata": {
  "kernelspec": {
   "display_name": "Python 3 (ipykernel)",
   "language": "python",
   "name": "python3"
  },
  "language_info": {
   "codemirror_mode": {
    "name": "ipython",
    "version": 3
   },
   "file_extension": ".py",
   "mimetype": "text/x-python",
   "name": "python",
   "nbconvert_exporter": "python",
   "pygments_lexer": "ipython3",
   "version": "3.10.8"
  }
 },
 "nbformat": 4,
 "nbformat_minor": 5
}
